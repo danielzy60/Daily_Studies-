{
 "cells": [
  {
   "cell_type": "code",
   "execution_count": 1,
   "id": "b56ae2d4",
   "metadata": {},
   "outputs": [],
   "source": [
    "import numpy as np\n",
    "import pandas as pd\n",
    "import matplotlib.pyplot as plt\n",
    "import sqlite3\n",
    "\n",
    "%matplotlib inline"
   ]
  },
  {
   "cell_type": "code",
   "execution_count": 2,
   "id": "4adbf356",
   "metadata": {},
   "outputs": [],
   "source": [
    "TD = pd.read_csv(\"TD.csv\")"
   ]
  },
  {
   "cell_type": "code",
   "execution_count": 3,
   "id": "64595ed8",
   "metadata": {},
   "outputs": [
    {
     "data": {
      "text/html": [
       "<div>\n",
       "<style scoped>\n",
       "    .dataframe tbody tr th:only-of-type {\n",
       "        vertical-align: middle;\n",
       "    }\n",
       "\n",
       "    .dataframe tbody tr th {\n",
       "        vertical-align: top;\n",
       "    }\n",
       "\n",
       "    .dataframe thead th {\n",
       "        text-align: right;\n",
       "    }\n",
       "</style>\n",
       "<table border=\"1\" class=\"dataframe\">\n",
       "  <thead>\n",
       "    <tr style=\"text-align: right;\">\n",
       "      <th></th>\n",
       "      <th>Date</th>\n",
       "      <th>Open</th>\n",
       "      <th>High</th>\n",
       "      <th>Low</th>\n",
       "      <th>Close</th>\n",
       "      <th>Adj Close</th>\n",
       "      <th>Volume</th>\n",
       "    </tr>\n",
       "  </thead>\n",
       "  <tbody>\n",
       "    <tr>\n",
       "      <th>0</th>\n",
       "      <td>3/28/00</td>\n",
       "      <td>13.000000</td>\n",
       "      <td>13.250000</td>\n",
       "      <td>12.875000</td>\n",
       "      <td>13.187500</td>\n",
       "      <td>3.820463</td>\n",
       "      <td>196200</td>\n",
       "    </tr>\n",
       "    <tr>\n",
       "      <th>1</th>\n",
       "      <td>3/29/00</td>\n",
       "      <td>13.093750</td>\n",
       "      <td>13.343750</td>\n",
       "      <td>13.093750</td>\n",
       "      <td>13.312500</td>\n",
       "      <td>3.856675</td>\n",
       "      <td>153600</td>\n",
       "    </tr>\n",
       "    <tr>\n",
       "      <th>2</th>\n",
       "      <td>3/30/00</td>\n",
       "      <td>13.343750</td>\n",
       "      <td>13.750000</td>\n",
       "      <td>13.343750</td>\n",
       "      <td>13.562500</td>\n",
       "      <td>3.929102</td>\n",
       "      <td>282800</td>\n",
       "    </tr>\n",
       "    <tr>\n",
       "      <th>3</th>\n",
       "      <td>3/31/00</td>\n",
       "      <td>13.625000</td>\n",
       "      <td>13.656250</td>\n",
       "      <td>13.187500</td>\n",
       "      <td>13.343750</td>\n",
       "      <td>3.865730</td>\n",
       "      <td>164600</td>\n",
       "    </tr>\n",
       "    <tr>\n",
       "      <th>4</th>\n",
       "      <td>4/3/00</td>\n",
       "      <td>13.312500</td>\n",
       "      <td>13.687500</td>\n",
       "      <td>13.000000</td>\n",
       "      <td>13.000000</td>\n",
       "      <td>3.766143</td>\n",
       "      <td>190000</td>\n",
       "    </tr>\n",
       "    <tr>\n",
       "      <th>...</th>\n",
       "      <td>...</td>\n",
       "      <td>...</td>\n",
       "      <td>...</td>\n",
       "      <td>...</td>\n",
       "      <td>...</td>\n",
       "      <td>...</td>\n",
       "      <td>...</td>\n",
       "    </tr>\n",
       "    <tr>\n",
       "      <th>5024</th>\n",
       "      <td>3/18/20</td>\n",
       "      <td>38.380001</td>\n",
       "      <td>39.169998</td>\n",
       "      <td>35.689999</td>\n",
       "      <td>37.939999</td>\n",
       "      <td>37.939999</td>\n",
       "      <td>2890200</td>\n",
       "    </tr>\n",
       "    <tr>\n",
       "      <th>5025</th>\n",
       "      <td>3/19/20</td>\n",
       "      <td>37.040001</td>\n",
       "      <td>37.880001</td>\n",
       "      <td>35.590000</td>\n",
       "      <td>37.430000</td>\n",
       "      <td>37.430000</td>\n",
       "      <td>2419100</td>\n",
       "    </tr>\n",
       "    <tr>\n",
       "      <th>5026</th>\n",
       "      <td>3/20/20</td>\n",
       "      <td>38.720001</td>\n",
       "      <td>40.230000</td>\n",
       "      <td>36.060001</td>\n",
       "      <td>36.910000</td>\n",
       "      <td>36.910000</td>\n",
       "      <td>3073300</td>\n",
       "    </tr>\n",
       "    <tr>\n",
       "      <th>5027</th>\n",
       "      <td>3/23/20</td>\n",
       "      <td>36.080002</td>\n",
       "      <td>36.799999</td>\n",
       "      <td>33.740002</td>\n",
       "      <td>33.830002</td>\n",
       "      <td>33.830002</td>\n",
       "      <td>4336900</td>\n",
       "    </tr>\n",
       "    <tr>\n",
       "      <th>5028</th>\n",
       "      <td>3/24/20</td>\n",
       "      <td>36.029999</td>\n",
       "      <td>38.869999</td>\n",
       "      <td>35.630001</td>\n",
       "      <td>38.660000</td>\n",
       "      <td>38.660000</td>\n",
       "      <td>4074400</td>\n",
       "    </tr>\n",
       "  </tbody>\n",
       "</table>\n",
       "<p>5029 rows × 7 columns</p>\n",
       "</div>"
      ],
      "text/plain": [
       "         Date       Open       High        Low      Close  Adj Close   Volume\n",
       "0     3/28/00  13.000000  13.250000  12.875000  13.187500   3.820463   196200\n",
       "1     3/29/00  13.093750  13.343750  13.093750  13.312500   3.856675   153600\n",
       "2     3/30/00  13.343750  13.750000  13.343750  13.562500   3.929102   282800\n",
       "3     3/31/00  13.625000  13.656250  13.187500  13.343750   3.865730   164600\n",
       "4      4/3/00  13.312500  13.687500  13.000000  13.000000   3.766143   190000\n",
       "...       ...        ...        ...        ...        ...        ...      ...\n",
       "5024  3/18/20  38.380001  39.169998  35.689999  37.939999  37.939999  2890200\n",
       "5025  3/19/20  37.040001  37.880001  35.590000  37.430000  37.430000  2419100\n",
       "5026  3/20/20  38.720001  40.230000  36.060001  36.910000  36.910000  3073300\n",
       "5027  3/23/20  36.080002  36.799999  33.740002  33.830002  33.830002  4336900\n",
       "5028  3/24/20  36.029999  38.869999  35.630001  38.660000  38.660000  4074400\n",
       "\n",
       "[5029 rows x 7 columns]"
      ]
     },
     "execution_count": 3,
     "metadata": {},
     "output_type": "execute_result"
    }
   ],
   "source": [
    "TD"
   ]
  },
  {
   "cell_type": "code",
   "execution_count": 4,
   "id": "56be0d23",
   "metadata": {},
   "outputs": [
    {
     "data": {
      "text/plain": [
       "Index(['Date', 'Open', 'High', 'Low', 'Close', 'Adj Close', 'Volume'], dtype='object')"
      ]
     },
     "execution_count": 4,
     "metadata": {},
     "output_type": "execute_result"
    }
   ],
   "source": [
    "TD.index\n",
    "TD.index[0]\n",
    "TD.index[-1]\n",
    "TD.columns"
   ]
  },
  {
   "cell_type": "code",
   "execution_count": 5,
   "id": "091f322d",
   "metadata": {},
   "outputs": [
    {
     "data": {
      "text/html": [
       "<div>\n",
       "<style scoped>\n",
       "    .dataframe tbody tr th:only-of-type {\n",
       "        vertical-align: middle;\n",
       "    }\n",
       "\n",
       "    .dataframe tbody tr th {\n",
       "        vertical-align: top;\n",
       "    }\n",
       "\n",
       "    .dataframe thead th {\n",
       "        text-align: right;\n",
       "    }\n",
       "</style>\n",
       "<table border=\"1\" class=\"dataframe\">\n",
       "  <thead>\n",
       "    <tr style=\"text-align: right;\">\n",
       "      <th></th>\n",
       "      <th>Date</th>\n",
       "      <th>Open</th>\n",
       "      <th>High</th>\n",
       "      <th>Low</th>\n",
       "      <th>Close</th>\n",
       "      <th>Adj Close</th>\n",
       "      <th>Volume</th>\n",
       "    </tr>\n",
       "  </thead>\n",
       "  <tbody>\n",
       "    <tr>\n",
       "      <th>5019</th>\n",
       "      <td>3/11/20</td>\n",
       "      <td>43.169998</td>\n",
       "      <td>43.299999</td>\n",
       "      <td>42.070000</td>\n",
       "      <td>42.119999</td>\n",
       "      <td>42.119999</td>\n",
       "      <td>4856900</td>\n",
       "    </tr>\n",
       "    <tr>\n",
       "      <th>5020</th>\n",
       "      <td>3/12/20</td>\n",
       "      <td>39.619999</td>\n",
       "      <td>39.639999</td>\n",
       "      <td>36.150002</td>\n",
       "      <td>37.410000</td>\n",
       "      <td>37.410000</td>\n",
       "      <td>3988500</td>\n",
       "    </tr>\n",
       "    <tr>\n",
       "      <th>5021</th>\n",
       "      <td>3/13/20</td>\n",
       "      <td>39.619999</td>\n",
       "      <td>43.439999</td>\n",
       "      <td>38.369999</td>\n",
       "      <td>43.419998</td>\n",
       "      <td>43.419998</td>\n",
       "      <td>4026300</td>\n",
       "    </tr>\n",
       "    <tr>\n",
       "      <th>5022</th>\n",
       "      <td>3/16/20</td>\n",
       "      <td>37.349998</td>\n",
       "      <td>41.299999</td>\n",
       "      <td>36.000000</td>\n",
       "      <td>39.250000</td>\n",
       "      <td>39.250000</td>\n",
       "      <td>2615200</td>\n",
       "    </tr>\n",
       "    <tr>\n",
       "      <th>5023</th>\n",
       "      <td>3/17/20</td>\n",
       "      <td>39.680000</td>\n",
       "      <td>41.939999</td>\n",
       "      <td>39.040001</td>\n",
       "      <td>40.560001</td>\n",
       "      <td>40.560001</td>\n",
       "      <td>2603500</td>\n",
       "    </tr>\n",
       "    <tr>\n",
       "      <th>5024</th>\n",
       "      <td>3/18/20</td>\n",
       "      <td>38.380001</td>\n",
       "      <td>39.169998</td>\n",
       "      <td>35.689999</td>\n",
       "      <td>37.939999</td>\n",
       "      <td>37.939999</td>\n",
       "      <td>2890200</td>\n",
       "    </tr>\n",
       "    <tr>\n",
       "      <th>5025</th>\n",
       "      <td>3/19/20</td>\n",
       "      <td>37.040001</td>\n",
       "      <td>37.880001</td>\n",
       "      <td>35.590000</td>\n",
       "      <td>37.430000</td>\n",
       "      <td>37.430000</td>\n",
       "      <td>2419100</td>\n",
       "    </tr>\n",
       "    <tr>\n",
       "      <th>5026</th>\n",
       "      <td>3/20/20</td>\n",
       "      <td>38.720001</td>\n",
       "      <td>40.230000</td>\n",
       "      <td>36.060001</td>\n",
       "      <td>36.910000</td>\n",
       "      <td>36.910000</td>\n",
       "      <td>3073300</td>\n",
       "    </tr>\n",
       "    <tr>\n",
       "      <th>5027</th>\n",
       "      <td>3/23/20</td>\n",
       "      <td>36.080002</td>\n",
       "      <td>36.799999</td>\n",
       "      <td>33.740002</td>\n",
       "      <td>33.830002</td>\n",
       "      <td>33.830002</td>\n",
       "      <td>4336900</td>\n",
       "    </tr>\n",
       "    <tr>\n",
       "      <th>5028</th>\n",
       "      <td>3/24/20</td>\n",
       "      <td>36.029999</td>\n",
       "      <td>38.869999</td>\n",
       "      <td>35.630001</td>\n",
       "      <td>38.660000</td>\n",
       "      <td>38.660000</td>\n",
       "      <td>4074400</td>\n",
       "    </tr>\n",
       "  </tbody>\n",
       "</table>\n",
       "</div>"
      ],
      "text/plain": [
       "         Date       Open       High        Low      Close  Adj Close   Volume\n",
       "5019  3/11/20  43.169998  43.299999  42.070000  42.119999  42.119999  4856900\n",
       "5020  3/12/20  39.619999  39.639999  36.150002  37.410000  37.410000  3988500\n",
       "5021  3/13/20  39.619999  43.439999  38.369999  43.419998  43.419998  4026300\n",
       "5022  3/16/20  37.349998  41.299999  36.000000  39.250000  39.250000  2615200\n",
       "5023  3/17/20  39.680000  41.939999  39.040001  40.560001  40.560001  2603500\n",
       "5024  3/18/20  38.380001  39.169998  35.689999  37.939999  37.939999  2890200\n",
       "5025  3/19/20  37.040001  37.880001  35.590000  37.430000  37.430000  2419100\n",
       "5026  3/20/20  38.720001  40.230000  36.060001  36.910000  36.910000  3073300\n",
       "5027  3/23/20  36.080002  36.799999  33.740002  33.830002  33.830002  4336900\n",
       "5028  3/24/20  36.029999  38.869999  35.630001  38.660000  38.660000  4074400"
      ]
     },
     "execution_count": 5,
     "metadata": {},
     "output_type": "execute_result"
    }
   ],
   "source": [
    "TD.tail(10)"
   ]
  },
  {
   "cell_type": "code",
   "execution_count": 6,
   "id": "06abc9a8",
   "metadata": {},
   "outputs": [
    {
     "data": {
      "text/html": [
       "<div>\n",
       "<style scoped>\n",
       "    .dataframe tbody tr th:only-of-type {\n",
       "        vertical-align: middle;\n",
       "    }\n",
       "\n",
       "    .dataframe tbody tr th {\n",
       "        vertical-align: top;\n",
       "    }\n",
       "\n",
       "    .dataframe thead th {\n",
       "        text-align: right;\n",
       "    }\n",
       "</style>\n",
       "<table border=\"1\" class=\"dataframe\">\n",
       "  <thead>\n",
       "    <tr style=\"text-align: right;\">\n",
       "      <th></th>\n",
       "      <th>Open</th>\n",
       "      <th>High</th>\n",
       "      <th>Low</th>\n",
       "      <th>Close</th>\n",
       "      <th>Adj Close</th>\n",
       "      <th>Volume</th>\n",
       "    </tr>\n",
       "  </thead>\n",
       "  <tbody>\n",
       "    <tr>\n",
       "      <th>count</th>\n",
       "      <td>5029.000000</td>\n",
       "      <td>5029.000000</td>\n",
       "      <td>5029.000000</td>\n",
       "      <td>5029.000000</td>\n",
       "      <td>5029.000000</td>\n",
       "      <td>5.029000e+03</td>\n",
       "    </tr>\n",
       "    <tr>\n",
       "      <th>mean</th>\n",
       "      <td>33.562754</td>\n",
       "      <td>33.812130</td>\n",
       "      <td>33.293803</td>\n",
       "      <td>33.562112</td>\n",
       "      <td>22.865048</td>\n",
       "      <td>1.124211e+06</td>\n",
       "    </tr>\n",
       "    <tr>\n",
       "      <th>std</th>\n",
       "      <td>14.802339</td>\n",
       "      <td>14.847041</td>\n",
       "      <td>14.736898</td>\n",
       "      <td>14.792769</td>\n",
       "      <td>16.522863</td>\n",
       "      <td>1.247304e+06</td>\n",
       "    </tr>\n",
       "    <tr>\n",
       "      <th>min</th>\n",
       "      <td>7.890000</td>\n",
       "      <td>8.280000</td>\n",
       "      <td>7.885000</td>\n",
       "      <td>7.940000</td>\n",
       "      <td>2.641973</td>\n",
       "      <td>9.400000e+03</td>\n",
       "    </tr>\n",
       "    <tr>\n",
       "      <th>25%</th>\n",
       "      <td>19.610001</td>\n",
       "      <td>19.805000</td>\n",
       "      <td>19.415001</td>\n",
       "      <td>19.620001</td>\n",
       "      <td>7.810097</td>\n",
       "      <td>1.798000e+05</td>\n",
       "    </tr>\n",
       "    <tr>\n",
       "      <th>50%</th>\n",
       "      <td>35.014999</td>\n",
       "      <td>35.325001</td>\n",
       "      <td>34.665001</td>\n",
       "      <td>34.980000</td>\n",
       "      <td>19.038347</td>\n",
       "      <td>8.977000e+05</td>\n",
       "    </tr>\n",
       "    <tr>\n",
       "      <th>75%</th>\n",
       "      <td>44.169998</td>\n",
       "      <td>44.439999</td>\n",
       "      <td>43.939999</td>\n",
       "      <td>44.160000</td>\n",
       "      <td>34.813255</td>\n",
       "      <td>1.543700e+06</td>\n",
       "    </tr>\n",
       "    <tr>\n",
       "      <th>max</th>\n",
       "      <td>61.860001</td>\n",
       "      <td>62.000000</td>\n",
       "      <td>61.590000</td>\n",
       "      <td>61.820000</td>\n",
       "      <td>57.531891</td>\n",
       "      <td>2.552140e+07</td>\n",
       "    </tr>\n",
       "  </tbody>\n",
       "</table>\n",
       "</div>"
      ],
      "text/plain": [
       "              Open         High          Low        Close    Adj Close  \\\n",
       "count  5029.000000  5029.000000  5029.000000  5029.000000  5029.000000   \n",
       "mean     33.562754    33.812130    33.293803    33.562112    22.865048   \n",
       "std      14.802339    14.847041    14.736898    14.792769    16.522863   \n",
       "min       7.890000     8.280000     7.885000     7.940000     2.641973   \n",
       "25%      19.610001    19.805000    19.415001    19.620001     7.810097   \n",
       "50%      35.014999    35.325001    34.665001    34.980000    19.038347   \n",
       "75%      44.169998    44.439999    43.939999    44.160000    34.813255   \n",
       "max      61.860001    62.000000    61.590000    61.820000    57.531891   \n",
       "\n",
       "             Volume  \n",
       "count  5.029000e+03  \n",
       "mean   1.124211e+06  \n",
       "std    1.247304e+06  \n",
       "min    9.400000e+03  \n",
       "25%    1.798000e+05  \n",
       "50%    8.977000e+05  \n",
       "75%    1.543700e+06  \n",
       "max    2.552140e+07  "
      ]
     },
     "execution_count": 6,
     "metadata": {},
     "output_type": "execute_result"
    }
   ],
   "source": [
    "TD.describe()"
   ]
  },
  {
   "cell_type": "code",
   "execution_count": 7,
   "id": "d9a57f56",
   "metadata": {},
   "outputs": [
    {
     "data": {
      "text/plain": [
       "36.91"
      ]
     },
     "execution_count": 7,
     "metadata": {},
     "output_type": "execute_result"
    }
   ],
   "source": [
    "TD.loc[5025+1,'Close']"
   ]
  },
  {
   "cell_type": "code",
   "execution_count": 8,
   "id": "94744570",
   "metadata": {},
   "outputs": [
    {
     "data": {
      "text/plain": [
       "12.0625"
      ]
     },
     "execution_count": 8,
     "metadata": {},
     "output_type": "execute_result"
    }
   ],
   "source": [
    "TD.iloc[10,3]"
   ]
  },
  {
   "cell_type": "code",
   "execution_count": 9,
   "id": "8fff3892",
   "metadata": {},
   "outputs": [
    {
     "data": {
      "text/plain": [
       "505    13.760\n",
       "506    13.770\n",
       "507    13.715\n",
       "508    13.965\n",
       "509    13.850\n",
       "        ...  \n",
       "601    11.205\n",
       "602    11.095\n",
       "603    10.920\n",
       "604    11.070\n",
       "605    11.090\n",
       "Name: Close, Length: 101, dtype: float64"
      ]
     },
     "execution_count": 9,
     "metadata": {},
     "output_type": "execute_result"
    }
   ],
   "source": [
    "TD.loc[505:605,'Close']"
   ]
  },
  {
   "cell_type": "code",
   "execution_count": 10,
   "id": "2ed71a7b",
   "metadata": {},
   "outputs": [
    {
     "data": {
      "text/html": [
       "<div>\n",
       "<style scoped>\n",
       "    .dataframe tbody tr th:only-of-type {\n",
       "        vertical-align: middle;\n",
       "    }\n",
       "\n",
       "    .dataframe tbody tr th {\n",
       "        vertical-align: top;\n",
       "    }\n",
       "\n",
       "    .dataframe thead th {\n",
       "        text-align: right;\n",
       "    }\n",
       "</style>\n",
       "<table border=\"1\" class=\"dataframe\">\n",
       "  <thead>\n",
       "    <tr style=\"text-align: right;\">\n",
       "      <th></th>\n",
       "      <th>Date</th>\n",
       "      <th>Open</th>\n",
       "      <th>High</th>\n",
       "      <th>Low</th>\n",
       "      <th>Close</th>\n",
       "      <th>Adj Close</th>\n",
       "      <th>Volume</th>\n",
       "    </tr>\n",
       "  </thead>\n",
       "  <tbody>\n",
       "    <tr>\n",
       "      <th>624</th>\n",
       "      <td>9/24/02</td>\n",
       "      <td>8.650000</td>\n",
       "      <td>9.000000</td>\n",
       "      <td>8.615000</td>\n",
       "      <td>8.730000</td>\n",
       "      <td>2.904838</td>\n",
       "      <td>127600</td>\n",
       "    </tr>\n",
       "    <tr>\n",
       "      <th>625</th>\n",
       "      <td>9/25/02</td>\n",
       "      <td>9.000000</td>\n",
       "      <td>9.000000</td>\n",
       "      <td>8.795000</td>\n",
       "      <td>8.810000</td>\n",
       "      <td>2.931458</td>\n",
       "      <td>132200</td>\n",
       "    </tr>\n",
       "    <tr>\n",
       "      <th>626</th>\n",
       "      <td>9/26/02</td>\n",
       "      <td>8.900000</td>\n",
       "      <td>9.025000</td>\n",
       "      <td>8.840000</td>\n",
       "      <td>8.985000</td>\n",
       "      <td>2.989688</td>\n",
       "      <td>203800</td>\n",
       "    </tr>\n",
       "    <tr>\n",
       "      <th>627</th>\n",
       "      <td>9/27/02</td>\n",
       "      <td>9.000000</td>\n",
       "      <td>9.005000</td>\n",
       "      <td>8.725000</td>\n",
       "      <td>8.725000</td>\n",
       "      <td>2.903176</td>\n",
       "      <td>106200</td>\n",
       "    </tr>\n",
       "    <tr>\n",
       "      <th>628</th>\n",
       "      <td>9/30/02</td>\n",
       "      <td>8.720000</td>\n",
       "      <td>8.995000</td>\n",
       "      <td>8.600000</td>\n",
       "      <td>8.805000</td>\n",
       "      <td>2.929794</td>\n",
       "      <td>201400</td>\n",
       "    </tr>\n",
       "    <tr>\n",
       "      <th>...</th>\n",
       "      <td>...</td>\n",
       "      <td>...</td>\n",
       "      <td>...</td>\n",
       "      <td>...</td>\n",
       "      <td>...</td>\n",
       "      <td>...</td>\n",
       "      <td>...</td>\n",
       "    </tr>\n",
       "    <tr>\n",
       "      <th>5024</th>\n",
       "      <td>3/18/20</td>\n",
       "      <td>38.380001</td>\n",
       "      <td>39.169998</td>\n",
       "      <td>35.689999</td>\n",
       "      <td>37.939999</td>\n",
       "      <td>37.939999</td>\n",
       "      <td>2890200</td>\n",
       "    </tr>\n",
       "    <tr>\n",
       "      <th>5025</th>\n",
       "      <td>3/19/20</td>\n",
       "      <td>37.040001</td>\n",
       "      <td>37.880001</td>\n",
       "      <td>35.590000</td>\n",
       "      <td>37.430000</td>\n",
       "      <td>37.430000</td>\n",
       "      <td>2419100</td>\n",
       "    </tr>\n",
       "    <tr>\n",
       "      <th>5026</th>\n",
       "      <td>3/20/20</td>\n",
       "      <td>38.720001</td>\n",
       "      <td>40.230000</td>\n",
       "      <td>36.060001</td>\n",
       "      <td>36.910000</td>\n",
       "      <td>36.910000</td>\n",
       "      <td>3073300</td>\n",
       "    </tr>\n",
       "    <tr>\n",
       "      <th>5027</th>\n",
       "      <td>3/23/20</td>\n",
       "      <td>36.080002</td>\n",
       "      <td>36.799999</td>\n",
       "      <td>33.740002</td>\n",
       "      <td>33.830002</td>\n",
       "      <td>33.830002</td>\n",
       "      <td>4336900</td>\n",
       "    </tr>\n",
       "    <tr>\n",
       "      <th>5028</th>\n",
       "      <td>3/24/20</td>\n",
       "      <td>36.029999</td>\n",
       "      <td>38.869999</td>\n",
       "      <td>35.630001</td>\n",
       "      <td>38.660000</td>\n",
       "      <td>38.660000</td>\n",
       "      <td>4074400</td>\n",
       "    </tr>\n",
       "  </tbody>\n",
       "</table>\n",
       "<p>4405 rows × 7 columns</p>\n",
       "</div>"
      ],
      "text/plain": [
       "         Date       Open       High        Low      Close  Adj Close   Volume\n",
       "624   9/24/02   8.650000   9.000000   8.615000   8.730000   2.904838   127600\n",
       "625   9/25/02   9.000000   9.000000   8.795000   8.810000   2.931458   132200\n",
       "626   9/26/02   8.900000   9.025000   8.840000   8.985000   2.989688   203800\n",
       "627   9/27/02   9.000000   9.005000   8.725000   8.725000   2.903176   106200\n",
       "628   9/30/02   8.720000   8.995000   8.600000   8.805000   2.929794   201400\n",
       "...       ...        ...        ...        ...        ...        ...      ...\n",
       "5024  3/18/20  38.380001  39.169998  35.689999  37.939999  37.939999  2890200\n",
       "5025  3/19/20  37.040001  37.880001  35.590000  37.430000  37.430000  2419100\n",
       "5026  3/20/20  38.720001  40.230000  36.060001  36.910000  36.910000  3073300\n",
       "5027  3/23/20  36.080002  36.799999  33.740002  33.830002  33.830002  4336900\n",
       "5028  3/24/20  36.029999  38.869999  35.630001  38.660000  38.660000  4074400\n",
       "\n",
       "[4405 rows x 7 columns]"
      ]
     },
     "execution_count": 10,
     "metadata": {},
     "output_type": "execute_result"
    }
   ],
   "source": [
    "TD.iloc[624:,:]"
   ]
  },
  {
   "cell_type": "code",
   "execution_count": 11,
   "id": "8ef9b25b",
   "metadata": {},
   "outputs": [
    {
     "data": {
      "text/plain": [
       "<AxesSubplot:>"
      ]
     },
     "execution_count": 11,
     "metadata": {},
     "output_type": "execute_result"
    },
    {
     "data": {
      "image/png": "[encoded data removed]",
      "text/plain": [
       "<Figure size 432x288 with 1 Axes>"
      ]
     },
     "metadata": {
      "needs_background": "light"
     },
     "output_type": "display_data"
    }
   ],
   "source": [
    "TD.loc[705:805,'Close'].plot()\n",
    "TD.loc[806:905,'Close'].plot()\n",
    "TD.loc[906:1005,'Close'].plot()"
   ]
  },
  {
   "cell_type": "code",
   "execution_count": 12,
   "id": "38c9a574",
   "metadata": {},
   "outputs": [
    {
     "data": {
      "text/html": [
       "<div>\n",
       "<style scoped>\n",
       "    .dataframe tbody tr th:only-of-type {\n",
       "        vertical-align: middle;\n",
       "    }\n",
       "\n",
       "    .dataframe tbody tr th {\n",
       "        vertical-align: top;\n",
       "    }\n",
       "\n",
       "    .dataframe thead th {\n",
       "        text-align: right;\n",
       "    }\n",
       "</style>\n",
       "<table border=\"1\" class=\"dataframe\">\n",
       "  <thead>\n",
       "    <tr style=\"text-align: right;\">\n",
       "      <th></th>\n",
       "      <th>Open</th>\n",
       "      <th>Close</th>\n",
       "    </tr>\n",
       "  </thead>\n",
       "  <tbody>\n",
       "    <tr>\n",
       "      <th>0</th>\n",
       "      <td>13.000000</td>\n",
       "      <td>13.187500</td>\n",
       "    </tr>\n",
       "    <tr>\n",
       "      <th>1</th>\n",
       "      <td>13.093750</td>\n",
       "      <td>13.312500</td>\n",
       "    </tr>\n",
       "    <tr>\n",
       "      <th>2</th>\n",
       "      <td>13.343750</td>\n",
       "      <td>13.562500</td>\n",
       "    </tr>\n",
       "    <tr>\n",
       "      <th>3</th>\n",
       "      <td>13.625000</td>\n",
       "      <td>13.343750</td>\n",
       "    </tr>\n",
       "    <tr>\n",
       "      <th>4</th>\n",
       "      <td>13.312500</td>\n",
       "      <td>13.000000</td>\n",
       "    </tr>\n",
       "    <tr>\n",
       "      <th>...</th>\n",
       "      <td>...</td>\n",
       "      <td>...</td>\n",
       "    </tr>\n",
       "    <tr>\n",
       "      <th>5024</th>\n",
       "      <td>38.380001</td>\n",
       "      <td>37.939999</td>\n",
       "    </tr>\n",
       "    <tr>\n",
       "      <th>5025</th>\n",
       "      <td>37.040001</td>\n",
       "      <td>37.430000</td>\n",
       "    </tr>\n",
       "    <tr>\n",
       "      <th>5026</th>\n",
       "      <td>38.720001</td>\n",
       "      <td>36.910000</td>\n",
       "    </tr>\n",
       "    <tr>\n",
       "      <th>5027</th>\n",
       "      <td>36.080002</td>\n",
       "      <td>33.830002</td>\n",
       "    </tr>\n",
       "    <tr>\n",
       "      <th>5028</th>\n",
       "      <td>36.029999</td>\n",
       "      <td>38.660000</td>\n",
       "    </tr>\n",
       "  </tbody>\n",
       "</table>\n",
       "<p>5029 rows × 2 columns</p>\n",
       "</div>"
      ],
      "text/plain": [
       "           Open      Close\n",
       "0     13.000000  13.187500\n",
       "1     13.093750  13.312500\n",
       "2     13.343750  13.562500\n",
       "3     13.625000  13.343750\n",
       "4     13.312500  13.000000\n",
       "...         ...        ...\n",
       "5024  38.380001  37.939999\n",
       "5025  37.040001  37.430000\n",
       "5026  38.720001  36.910000\n",
       "5027  36.080002  33.830002\n",
       "5028  36.029999  38.660000\n",
       "\n",
       "[5029 rows x 2 columns]"
      ]
     },
     "execution_count": 12,
     "metadata": {},
     "output_type": "execute_result"
    }
   ],
   "source": [
    "TD[[\"Open\",\"Close\"]]"
   ]
  },
  {
   "cell_type": "code",
   "execution_count": 13,
   "id": "587e05b6",
   "metadata": {},
   "outputs": [],
   "source": [
    "TD['price1'] = TD['Close'].shift(-1)"
   ]
  },
  {
   "cell_type": "code",
   "execution_count": 14,
   "id": "9c7db83b",
   "metadata": {},
   "outputs": [
    {
     "data": {
      "text/plain": [
       "0       13.312500\n",
       "1       13.562500\n",
       "2       13.343750\n",
       "3       13.000000\n",
       "4       12.406250\n",
       "          ...    \n",
       "5024    37.430000\n",
       "5025    36.910000\n",
       "5026    33.830002\n",
       "5027    38.660000\n",
       "5028          NaN\n",
       "Name: price1, Length: 5029, dtype: float64"
      ]
     },
     "execution_count": 14,
     "metadata": {},
     "output_type": "execute_result"
    }
   ],
   "source": [
    "TD['price1']\n"
   ]
  },
  {
   "cell_type": "code",
   "execution_count": 15,
   "id": "fe7af815",
   "metadata": {},
   "outputs": [],
   "source": [
    "TD['PriceDiff'] = TD['Close'].shift(-1)-TD['Close']"
   ]
  },
  {
   "cell_type": "code",
   "execution_count": 16,
   "id": "7308f766",
   "metadata": {},
   "outputs": [
    {
     "data": {
      "text/html": [
       "<div>\n",
       "<style scoped>\n",
       "    .dataframe tbody tr th:only-of-type {\n",
       "        vertical-align: middle;\n",
       "    }\n",
       "\n",
       "    .dataframe tbody tr th {\n",
       "        vertical-align: top;\n",
       "    }\n",
       "\n",
       "    .dataframe thead th {\n",
       "        text-align: right;\n",
       "    }\n",
       "</style>\n",
       "<table border=\"1\" class=\"dataframe\">\n",
       "  <thead>\n",
       "    <tr style=\"text-align: right;\">\n",
       "      <th></th>\n",
       "      <th>Date</th>\n",
       "      <th>Open</th>\n",
       "      <th>High</th>\n",
       "      <th>Low</th>\n",
       "      <th>Close</th>\n",
       "      <th>Adj Close</th>\n",
       "      <th>Volume</th>\n",
       "      <th>price1</th>\n",
       "      <th>PriceDiff</th>\n",
       "    </tr>\n",
       "  </thead>\n",
       "  <tbody>\n",
       "    <tr>\n",
       "      <th>0</th>\n",
       "      <td>3/28/00</td>\n",
       "      <td>13.00000</td>\n",
       "      <td>13.25000</td>\n",
       "      <td>12.87500</td>\n",
       "      <td>13.18750</td>\n",
       "      <td>3.820463</td>\n",
       "      <td>196200</td>\n",
       "      <td>13.31250</td>\n",
       "      <td>0.12500</td>\n",
       "    </tr>\n",
       "    <tr>\n",
       "      <th>1</th>\n",
       "      <td>3/29/00</td>\n",
       "      <td>13.09375</td>\n",
       "      <td>13.34375</td>\n",
       "      <td>13.09375</td>\n",
       "      <td>13.31250</td>\n",
       "      <td>3.856675</td>\n",
       "      <td>153600</td>\n",
       "      <td>13.56250</td>\n",
       "      <td>0.25000</td>\n",
       "    </tr>\n",
       "    <tr>\n",
       "      <th>2</th>\n",
       "      <td>3/30/00</td>\n",
       "      <td>13.34375</td>\n",
       "      <td>13.75000</td>\n",
       "      <td>13.34375</td>\n",
       "      <td>13.56250</td>\n",
       "      <td>3.929102</td>\n",
       "      <td>282800</td>\n",
       "      <td>13.34375</td>\n",
       "      <td>-0.21875</td>\n",
       "    </tr>\n",
       "    <tr>\n",
       "      <th>3</th>\n",
       "      <td>3/31/00</td>\n",
       "      <td>13.62500</td>\n",
       "      <td>13.65625</td>\n",
       "      <td>13.18750</td>\n",
       "      <td>13.34375</td>\n",
       "      <td>3.865730</td>\n",
       "      <td>164600</td>\n",
       "      <td>13.00000</td>\n",
       "      <td>-0.34375</td>\n",
       "    </tr>\n",
       "    <tr>\n",
       "      <th>4</th>\n",
       "      <td>4/3/00</td>\n",
       "      <td>13.31250</td>\n",
       "      <td>13.68750</td>\n",
       "      <td>13.00000</td>\n",
       "      <td>13.00000</td>\n",
       "      <td>3.766143</td>\n",
       "      <td>190000</td>\n",
       "      <td>12.40625</td>\n",
       "      <td>-0.59375</td>\n",
       "    </tr>\n",
       "  </tbody>\n",
       "</table>\n",
       "</div>"
      ],
      "text/plain": [
       "      Date      Open      High       Low     Close  Adj Close  Volume  \\\n",
       "0  3/28/00  13.00000  13.25000  12.87500  13.18750   3.820463  196200   \n",
       "1  3/29/00  13.09375  13.34375  13.09375  13.31250   3.856675  153600   \n",
       "2  3/30/00  13.34375  13.75000  13.34375  13.56250   3.929102  282800   \n",
       "3  3/31/00  13.62500  13.65625  13.18750  13.34375   3.865730  164600   \n",
       "4   4/3/00  13.31250  13.68750  13.00000  13.00000   3.766143  190000   \n",
       "\n",
       "     price1  PriceDiff  \n",
       "0  13.31250    0.12500  \n",
       "1  13.56250    0.25000  \n",
       "2  13.34375   -0.21875  \n",
       "3  13.00000   -0.34375  \n",
       "4  12.40625   -0.59375  "
      ]
     },
     "execution_count": 16,
     "metadata": {},
     "output_type": "execute_result"
    }
   ],
   "source": [
    "TD.head()"
   ]
  },
  {
   "cell_type": "code",
   "execution_count": 17,
   "id": "72d35a22",
   "metadata": {},
   "outputs": [],
   "source": [
    "TD['return']=TD[\"PriceDiff\"]/TD['Open']"
   ]
  },
  {
   "cell_type": "code",
   "execution_count": 18,
   "id": "f79891c7",
   "metadata": {},
   "outputs": [
    {
     "data": {
      "text/plain": [
       "<AxesSubplot:>"
      ]
     },
     "execution_count": 18,
     "metadata": {},
     "output_type": "execute_result"
    },
    {
     "data": {
      "image/png": "[encoded data removed]",
      "text/plain": [
       "<Figure size 432x288 with 1 Axes>"
      ]
     },
     "metadata": {
      "needs_background": "light"
     },
     "output_type": "display_data"
    }
   ],
   "source": [
    "TD.loc[705:805,'return'].plot()\n",
    "TD.loc[806:905,'return'].plot()\n",
    "TD.loc[906:1050,'return'].plot()"
   ]
  },
  {
   "cell_type": "code",
   "execution_count": 19,
   "id": "772ce56a",
   "metadata": {},
   "outputs": [],
   "source": [
    "TD[\"Direction\"] = [1 if TD.loc[ei,'PriceDiff']>0 else -1 for ei in TD.index]"
   ]
  },
  {
   "cell_type": "code",
   "execution_count": 20,
   "id": "5e5a9664",
   "metadata": {},
   "outputs": [],
   "source": [
    "TD[\"MA(3)\"] = (TD['Close']+TD['Close'].shift(1)+TD[\"Close\"].shift(2))/3"
   ]
  },
  {
   "cell_type": "code",
   "execution_count": 21,
   "id": "a5a676b1",
   "metadata": {},
   "outputs": [
    {
     "data": {
      "text/plain": [
       "0             NaN\n",
       "1             NaN\n",
       "2       13.354167\n",
       "3       13.406250\n",
       "4       13.302083\n",
       "          ...    \n",
       "5024    39.250000\n",
       "5025    38.643333\n",
       "5026    37.426666\n",
       "5027    36.056667\n",
       "5028    36.466667\n",
       "Name: MA(3), Length: 5029, dtype: float64"
      ]
     },
     "execution_count": 21,
     "metadata": {},
     "output_type": "execute_result"
    }
   ],
   "source": [
    "TD[\"MA(3)\"]"
   ]
  },
  {
   "cell_type": "code",
   "execution_count": 22,
   "id": "c2094730",
   "metadata": {},
   "outputs": [
    {
     "data": {
      "text/plain": [
       "<AxesSubplot:>"
      ]
     },
     "execution_count": 22,
     "metadata": {},
     "output_type": "execute_result"
    },
    {
     "data": {
      "image/png": "[encoded data removed]",
      "text/plain": [
       "<Figure size 432x288 with 1 Axes>"
      ]
     },
     "metadata": {
      "needs_background": "light"
     },
     "output_type": "display_data"
    }
   ],
   "source": [
    "TD[\"MA(3)\"].plot()"
   ]
  },
  {
   "cell_type": "code",
   "execution_count": 23,
   "id": "0fcaf8f8",
   "metadata": {},
   "outputs": [
    {
     "data": {
      "text/plain": [
       "0       1\n",
       "1       1\n",
       "2      -1\n",
       "3      -1\n",
       "4      -1\n",
       "       ..\n",
       "5024   -1\n",
       "5025   -1\n",
       "5026   -1\n",
       "5027    1\n",
       "5028   -1\n",
       "Name: Direction, Length: 5029, dtype: int64"
      ]
     },
     "execution_count": 23,
     "metadata": {},
     "output_type": "execute_result"
    }
   ],
   "source": [
    "TD[\"Direction\"]"
   ]
  },
  {
   "cell_type": "code",
   "execution_count": 24,
   "id": "c25110a7",
   "metadata": {},
   "outputs": [],
   "source": [
    "TD['MA(40)']=TD[\"Close\"].rolling(40).mean()\n",
    "TD[\"MA(200)\"]=TD[\"Close\"].rolling(200).mean()"
   ]
  },
  {
   "cell_type": "code",
   "execution_count": null,
   "id": "632aeaf9",
   "metadata": {},
   "outputs": [],
   "source": []
  },
  {
   "cell_type": "code",
   "execution_count": 25,
   "id": "9055e87a",
   "metadata": {},
   "outputs": [
    {
     "data": {
      "text/plain": [
       "<AxesSubplot:>"
      ]
     },
     "execution_count": 25,
     "metadata": {},
     "output_type": "execute_result"
    },
    {
     "data": {
      "image/png": "[encoded data removed]",
      "text/plain": [
       "<Figure size 432x288 with 1 Axes>"
      ]
     },
     "metadata": {
      "needs_background": "light"
     },
     "output_type": "display_data"
    }
   ],
   "source": [
    "TD['MA(40)'].plot()\n",
    "TD[\"Close\"].plot()\n",
    "TD[\"MA(200)\"].plot()"
   ]
  },
  {
   "cell_type": "code",
   "execution_count": 26,
   "id": "deff0c9e",
   "metadata": {},
   "outputs": [],
   "source": [
    "TD['Shares'] = [1 if TD.loc[ei, 'MA(40)']>TD.loc[ei,\"MA(200)\"] else 0 for ei in TD.index]"
   ]
  },
  {
   "cell_type": "code",
   "execution_count": 27,
   "id": "c5c597d9",
   "metadata": {},
   "outputs": [],
   "source": [
    "TD[\"Close1\"]=TD[\"Close\"].shift(-1)\n"
   ]
  },
  {
   "cell_type": "code",
   "execution_count": 28,
   "id": "944c6108",
   "metadata": {},
   "outputs": [],
   "source": [
    "TD['Profit']= [TD.loc[ei,\"Close1\"]-TD.loc[ei,\"Close\"] if TD.loc[ei,\"Shares\"]==1 else 0 for ei in TD.index]"
   ]
  },
  {
   "cell_type": "code",
   "execution_count": 29,
   "id": "8bf1a52c",
   "metadata": {},
   "outputs": [
    {
     "data": {
      "text/plain": [
       "<matplotlib.lines.Line2D at 0x11ab456d0>"
      ]
     },
     "execution_count": 29,
     "metadata": {},
     "output_type": "execute_result"
    },
    {
     "data": {
      "image/png": "[encoded data removed]",
      "text/plain": [
       "<Figure size 432x288 with 1 Axes>"
      ]
     },
     "metadata": {
      "needs_background": "light"
     },
     "output_type": "display_data"
    }
   ],
   "source": [
    "TD[\"Profit\"].plot()\n",
    "plt.axhline(y=0,color='red')"
   ]
  },
  {
   "cell_type": "code",
   "execution_count": 30,
   "id": "184706d8",
   "metadata": {},
   "outputs": [],
   "source": [
    "TD[\"Wealth\"] = TD[\"Profit\"].cumsum()"
   ]
  },
  {
   "cell_type": "code",
   "execution_count": 31,
   "id": "2208af82",
   "metadata": {},
   "outputs": [
    {
     "data": {
      "text/plain": [
       "5024    44.137503\n",
       "5025    44.137503\n",
       "5026    44.137503\n",
       "5027    44.137503\n",
       "5028    44.137503\n",
       "Name: Wealth, dtype: float64"
      ]
     },
     "execution_count": 31,
     "metadata": {},
     "output_type": "execute_result"
    }
   ],
   "source": [
    "TD[\"Wealth\"].tail()"
   ]
  },
  {
   "cell_type": "code",
   "execution_count": null,
   "id": "a37c73e2",
   "metadata": {},
   "outputs": [],
   "source": []
  },
  {
   "cell_type": "code",
   "execution_count": 32,
   "id": "690e3374",
   "metadata": {},
   "outputs": [
    {
     "data": {
      "text/plain": [
       "217140"
      ]
     },
     "execution_count": 32,
     "metadata": {},
     "output_type": "execute_result"
    }
   ],
   "source": [
    "#volatility calculation\n",
    "3948*55"
   ]
  },
  {
   "cell_type": "code",
   "execution_count": null,
   "id": "44f2c84a",
   "metadata": {},
   "outputs": [],
   "source": []
  }
 ],
 "metadata": {
  "kernelspec": {
   "display_name": "Python 3 (ipykernel)",
   "language": "python",
   "name": "python3"
  },
  "language_info": {
   "codemirror_mode": {
    "name": "ipython",
    "version": 3
   },
   "file_extension": ".py",
   "mimetype": "text/x-python",
   "name": "python",
   "nbconvert_exporter": "python",
   "pygments_lexer": "ipython3",
   "version": "3.8.12"
  }
 },
 "nbformat": 4,
 "nbformat_minor": 5
}
